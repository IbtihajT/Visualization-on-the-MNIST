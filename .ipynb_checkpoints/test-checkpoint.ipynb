{
 "cells": [
  {
   "cell_type": "code",
   "execution_count": 1,
   "metadata": {
    "ExecuteTime": {
     "end_time": "2019-09-08T13:24:20.926815Z",
     "start_time": "2019-09-08T13:24:18.619851Z"
    }
   },
   "outputs": [
    {
     "name": "stderr",
     "output_type": "stream",
     "text": [
      "Using TensorFlow backend.\n"
     ]
    }
   ],
   "source": [
    "from keras.datasets import mnist\n",
    "import matplotlib.pyplot as plt\n",
    "import numpy as np\n",
    "\n",
    "from keras.models import Sequential\n",
    "from keras.layers import Dense, Dropout, Flatten\n",
    "from keras.layers.convolutional import Conv2D, MaxPooling2D\n",
    "from keras.utils import np_utils\n",
    "seed = 1336\n",
    "np.random.seed(seed)"
   ]
  },
  {
   "cell_type": "code",
   "execution_count": 2,
   "metadata": {
    "ExecuteTime": {
     "end_time": "2019-09-08T13:24:25.961411Z",
     "start_time": "2019-09-08T13:24:21.775055Z"
    }
   },
   "outputs": [],
   "source": [
    "from tensorflow.compat.v1 import ConfigProto\n",
    "from tensorflow.compat.v1 import InteractiveSession\n",
    "\n",
    "config = ConfigProto()\n",
    "config.gpu_options.allow_growth = True\n",
    "session = InteractiveSession(config=config)"
   ]
  },
  {
   "cell_type": "code",
   "execution_count": 3,
   "metadata": {
    "ExecuteTime": {
     "end_time": "2019-09-08T13:24:27.545615Z",
     "start_time": "2019-09-08T13:24:25.991286Z"
    }
   },
   "outputs": [
    {
     "name": "stdout",
     "output_type": "stream",
     "text": [
      "(60000, 28, 28)\n",
      "(60000, 28, 28, 1)\n"
     ]
    },
    {
     "data": {
      "image/png": "[encoded data removed]",
      "text/plain": [
       "<Figure size 432x288 with 1 Axes>"
      ]
     },
     "metadata": {
      "needs_background": "light"
     },
     "output_type": "display_data"
    }
   ],
   "source": [
    "(train_images, train_labels), (test_images, test_labels) = mnist.load_data()\n",
    "\n",
    "img = train_images[0]\n",
    "plt.imshow(img, cmap='gray')\n",
    "\n",
    "print(train_images.shape)\n",
    "\n",
    "train_images = train_images.reshape(\n",
    "    train_images.shape[0], 28, 28, 1).astype('float32')\n",
    "test_images = test_images.reshape(\n",
    "    test_images.shape[0], 28, 28, 1).astype('float32')\n",
    "\n",
    "print(train_images.shape)\n",
    "\n",
    "train_images = train_images / 255\n",
    "test_imgaes = test_images / 255\n",
    "\n",
    "train_labels = np_utils.to_categorical(train_labels)\n",
    "test_labels = np_utils.to_categorical(test_labels)\n",
    "num_classes = test_labels.shape[1]"
   ]
  },
  {
   "cell_type": "code",
   "execution_count": 4,
   "metadata": {
    "ExecuteTime": {
     "end_time": "2019-09-08T13:24:27.577635Z",
     "start_time": "2019-09-08T13:24:27.566574Z"
    }
   },
   "outputs": [],
   "source": [
    "def baseline_Model():\n",
    "\n",
    "    model = Sequential()\n",
    "    model.add(Conv2D(32, kernel_size=(5, 5),\n",
    "                     input_shape=(28, 28, 1), activation='relu'))\n",
    "    model.add(MaxPooling2D(pool_size=(2, 2)))\n",
    "    model.add(Dropout(0.2))\n",
    "    model.add(Flatten())\n",
    "    model.add(Dense(128, activation='relu'))\n",
    "    model.add(Dense(10, activation='softmax'))\n",
    "\n",
    "    model.compile(\n",
    "        loss='categorical_crossentropy',\n",
    "        optimizer='adam',\n",
    "        metrics=['accuracy']\n",
    "    )\n",
    "\n",
    "    return model"
   ]
  },
  {
   "cell_type": "code",
   "execution_count": 5,
   "metadata": {
    "ExecuteTime": {
     "end_time": "2019-09-08T13:24:28.112967Z",
     "start_time": "2019-09-08T13:24:27.603413Z"
    },
    "scrolled": true
   },
   "outputs": [
    {
     "name": "stderr",
     "output_type": "stream",
     "text": [
      "WARNING: Logging before flag parsing goes to stderr.\n",
      "W0908 18:24:27.683417 140327835338560 deprecation_wrapper.py:119] From /home/ibtihaj/anaconda3/envs/Tensorflow/lib/python3.7/site-packages/keras/backend/tensorflow_backend.py:66: The name tf.get_default_graph is deprecated. Please use tf.compat.v1.get_default_graph instead.\n",
      "\n",
      "W0908 18:24:27.686259 140327835338560 deprecation_wrapper.py:119] From /home/ibtihaj/anaconda3/envs/Tensorflow/lib/python3.7/site-packages/keras/backend/tensorflow_backend.py:541: The name tf.placeholder is deprecated. Please use tf.compat.v1.placeholder instead.\n",
      "\n",
      "W0908 18:24:27.792817 140327835338560 deprecation_wrapper.py:119] From /home/ibtihaj/anaconda3/envs/Tensorflow/lib/python3.7/site-packages/keras/backend/tensorflow_backend.py:4432: The name tf.random_uniform is deprecated. Please use tf.random.uniform instead.\n",
      "\n",
      "W0908 18:24:27.954596 140327835338560 deprecation_wrapper.py:119] From /home/ibtihaj/anaconda3/envs/Tensorflow/lib/python3.7/site-packages/keras/backend/tensorflow_backend.py:4267: The name tf.nn.max_pool is deprecated. Please use tf.nn.max_pool2d instead.\n",
      "\n",
      "W0908 18:24:27.957235 140327835338560 deprecation_wrapper.py:119] From /home/ibtihaj/anaconda3/envs/Tensorflow/lib/python3.7/site-packages/keras/backend/tensorflow_backend.py:148: The name tf.placeholder_with_default is deprecated. Please use tf.compat.v1.placeholder_with_default instead.\n",
      "\n",
      "W0908 18:24:27.969914 140327835338560 deprecation.py:506] From /home/ibtihaj/anaconda3/envs/Tensorflow/lib/python3.7/site-packages/keras/backend/tensorflow_backend.py:3733: calling dropout (from tensorflow.python.ops.nn_ops) with keep_prob is deprecated and will be removed in a future version.\n",
      "Instructions for updating:\n",
      "Please use `rate` instead of `keep_prob`. Rate should be set to `rate = 1 - keep_prob`.\n",
      "W0908 18:24:28.053890 140327835338560 deprecation_wrapper.py:119] From /home/ibtihaj/anaconda3/envs/Tensorflow/lib/python3.7/site-packages/keras/optimizers.py:793: The name tf.train.Optimizer is deprecated. Please use tf.compat.v1.train.Optimizer instead.\n",
      "\n",
      "W0908 18:24:28.087967 140327835338560 deprecation_wrapper.py:119] From /home/ibtihaj/anaconda3/envs/Tensorflow/lib/python3.7/site-packages/keras/backend/tensorflow_backend.py:3576: The name tf.log is deprecated. Please use tf.math.log instead.\n",
      "\n"
     ]
    },
    {
     "name": "stdout",
     "output_type": "stream",
     "text": [
      "Model: \"sequential_1\"\n",
      "_________________________________________________________________\n",
      "Layer (type)                 Output Shape              Param #   \n",
      "=================================================================\n",
      "conv2d_1 (Conv2D)            (None, 24, 24, 32)        832       \n",
      "_________________________________________________________________\n",
      "max_pooling2d_1 (MaxPooling2 (None, 12, 12, 32)        0         \n",
      "_________________________________________________________________\n",
      "dropout_1 (Dropout)          (None, 12, 12, 32)        0         \n",
      "_________________________________________________________________\n",
      "flatten_1 (Flatten)          (None, 4608)              0         \n",
      "_________________________________________________________________\n",
      "dense_1 (Dense)              (None, 128)               589952    \n",
      "_________________________________________________________________\n",
      "dense_2 (Dense)              (None, 10)                1290      \n",
      "=================================================================\n",
      "Total params: 592,074\n",
      "Trainable params: 592,074\n",
      "Non-trainable params: 0\n",
      "_________________________________________________________________\n"
     ]
    }
   ],
   "source": [
    "my_Model = baseline_Model()\n",
    "my_Model.summary()"
   ]
  },
  {
   "cell_type": "code",
   "execution_count": 6,
   "metadata": {
    "ExecuteTime": {
     "end_time": "2019-09-08T13:28:39.794556Z",
     "start_time": "2019-09-08T13:24:28.137614Z"
    },
    "scrolled": true
   },
   "outputs": [
    {
     "name": "stderr",
     "output_type": "stream",
     "text": [
      "W0908 18:24:28.571041 140327835338560 deprecation.py:323] From /home/ibtihaj/anaconda3/envs/Tensorflow/lib/python3.7/site-packages/tensorflow/python/ops/math_grad.py:1250: add_dispatch_support.<locals>.wrapper (from tensorflow.python.ops.array_ops) is deprecated and will be removed in a future version.\n",
      "Instructions for updating:\n",
      "Use tf.where in 2.0, which has the same broadcast rule as np.where\n"
     ]
    },
    {
     "name": "stdout",
     "output_type": "stream",
     "text": [
      "Train on 60000 samples, validate on 10000 samples\n",
      "Epoch 1/10\n",
      "60000/60000 [==============================] - 61s 1ms/step - loss: 0.1893 - acc: 0.9441 - val_loss: 0.2760 - val_acc: 0.9827\n",
      "Epoch 2/10\n",
      "60000/60000 [==============================] - 20s 340us/step - loss: 0.0584 - acc: 0.9825 - val_loss: 0.2455 - val_acc: 0.9844\n",
      "Epoch 3/10\n",
      "60000/60000 [==============================] - 20s 341us/step - loss: 0.0421 - acc: 0.9870 - val_loss: 0.2798 - val_acc: 0.9824\n",
      "Epoch 4/10\n",
      "60000/60000 [==============================] - 20s 340us/step - loss: 0.0318 - acc: 0.9902 - val_loss: 0.2728 - val_acc: 0.9830\n",
      "Epoch 5/10\n",
      "60000/60000 [==============================] - 22s 366us/step - loss: 0.0257 - acc: 0.9918 - val_loss: 0.2390 - val_acc: 0.9849\n",
      "Epoch 6/10\n",
      "60000/60000 [==============================] - 22s 361us/step - loss: 0.0201 - acc: 0.9936 - val_loss: 0.2481 - val_acc: 0.9845\n",
      "Epoch 7/10\n",
      "60000/60000 [==============================] - 21s 351us/step - loss: 0.0175 - acc: 0.9939 - val_loss: 0.2710 - val_acc: 0.9831\n",
      "Epoch 8/10\n",
      "60000/60000 [==============================] - 21s 349us/step - loss: 0.0142 - acc: 0.9952 - val_loss: 0.3276 - val_acc: 0.9794\n",
      "Epoch 9/10\n",
      "60000/60000 [==============================] - 21s 346us/step - loss: 0.0120 - acc: 0.9960 - val_loss: 0.1948 - val_acc: 0.9878\n",
      "Epoch 10/10\n",
      "60000/60000 [==============================] - 21s 348us/step - loss: 0.0096 - acc: 0.9968 - val_loss: 0.2160 - val_acc: 0.9865\n",
      "CNN Error: 1.3499999999999943\n"
     ]
    }
   ],
   "source": [
    "my_Model.fit(train_images, train_labels,\n",
    "             validation_data=(test_images, test_labels),\n",
    "             epochs=10,\n",
    "             batch_size=100,\n",
    "             verbose=1\n",
    "             )\n",
    "\n",
    "scores = my_Model.evaluate(test_images, test_labels, verbose=0)\n",
    "\n",
    "print(\"CNN Error:\", (100-scores[1]*100))"
   ]
  },
  {
   "cell_type": "code",
   "execution_count": 7,
   "metadata": {
    "ExecuteTime": {
     "end_time": "2019-09-08T13:28:49.847211Z",
     "start_time": "2019-09-08T13:28:49.321335Z"
    }
   },
   "outputs": [
    {
     "name": "stdout",
     "output_type": "stream",
     "text": [
      "(1, 28, 28, 1)\n"
     ]
    },
    {
     "data": {
      "image/png": "[encoded data removed]",
      "text/plain": [
       "<Figure size 432x288 with 1 Axes>"
      ]
     },
     "metadata": {
      "needs_background": "light"
     },
     "output_type": "display_data"
    }
   ],
   "source": [
    "import numpy as np\n",
    "from keras.preprocessing import image\n",
    "img_Path = \"5.jpg\"\n",
    "%matplotlib inline\n",
    "\n",
    "img = image.load_img(img_Path, color_mode='grayscale', target_size=(28, 28))\n",
    "\n",
    "plt.imshow(img)\n",
    "\n",
    "img_Tensor = image.img_to_array(img)\n",
    "img_Tensor = np.expand_dims(img_Tensor, axis=0)\n",
    "\n",
    "img_Tensor /= 255\n",
    "\n",
    "print(img_Tensor.shape)"
   ]
  },
  {
   "cell_type": "code",
   "execution_count": 8,
   "metadata": {
    "ExecuteTime": {
     "end_time": "2019-09-08T13:29:31.234367Z",
     "start_time": "2019-09-08T13:29:31.222337Z"
    }
   },
   "outputs": [],
   "source": [
    "from keras import models\n",
    "\n",
    "layer_Outputs = [layer.output for layer in my_Model.layers[:8]]\n",
    "activation = models.Model(inputs=my_Model.input, outputs=layer_Outputs)"
   ]
  },
  {
   "cell_type": "code",
   "execution_count": 9,
   "metadata": {
    "ExecuteTime": {
     "end_time": "2019-09-08T13:29:31.853753Z",
     "start_time": "2019-09-08T13:29:31.735429Z"
    }
   },
   "outputs": [],
   "source": [
    "activations = activation.predict(img_Tensor)"
   ]
  },
  {
   "cell_type": "code",
   "execution_count": 10,
   "metadata": {
    "ExecuteTime": {
     "end_time": "2019-09-08T13:29:32.278577Z",
     "start_time": "2019-09-08T13:29:32.265706Z"
    }
   },
   "outputs": [
    {
     "name": "stdout",
     "output_type": "stream",
     "text": [
      "(1, 24, 24, 32)\n"
     ]
    }
   ],
   "source": [
    "first_layer_activation = activations[0]\n",
    "print(first_layer_activation.shape)"
   ]
  },
  {
   "cell_type": "code",
   "execution_count": 11,
   "metadata": {
    "ExecuteTime": {
     "end_time": "2019-09-08T13:29:33.062475Z",
     "start_time": "2019-09-08T13:29:32.939290Z"
    }
   },
   "outputs": [
    {
     "data": {
      "image/png": "[encoded data removed]",
      "text/plain": [
       "<Figure size 288x288 with 1 Axes>"
      ]
     },
     "metadata": {
      "needs_background": "light"
     },
     "output_type": "display_data"
    }
   ],
   "source": [
    "plt.matshow(first_layer_activation[0, :, :, 11], cmap='gray')\n",
    "plt.show()"
   ]
  },
  {
   "cell_type": "code",
   "execution_count": 12,
   "metadata": {
    "ExecuteTime": {
     "end_time": "2019-09-08T13:29:39.724079Z",
     "start_time": "2019-09-08T13:29:39.130301Z"
    }
   },
   "outputs": [
    {
     "data": {
      "image/png": "[encoded data removed]",
      "text/plain": [
       "<Figure size 1152x144 with 1 Axes>"
      ]
     },
     "metadata": {
      "needs_background": "light"
     },
     "output_type": "display_data"
    },
    {
     "data": {
      "image/png": "[encoded data removed]",
      "text/plain": [
       "<Figure size 1152x144 with 1 Axes>"
      ]
     },
     "metadata": {
      "needs_background": "light"
     },
     "output_type": "display_data"
    },
    {
     "data": {
      "image/png": "[encoded data removed]",
      "text/plain": [
       "<Figure size 1152x144 with 1 Axes>"
      ]
     },
     "metadata": {
      "needs_background": "light"
     },
     "output_type": "display_data"
    }
   ],
   "source": [
    "# These are the names of the layers, so can have them as part of our plot\n",
    "layer_names = []\n",
    "for layer in my_Model.layers[:3]:\n",
    "    layer_names.append(layer.name)\n",
    "\n",
    "images_per_row = 16\n",
    "\n",
    "# Now let's display our feature maps\n",
    "for layer_name, layer_activation in zip(layer_names, activations):\n",
    "    # This is the number of features in the feature map\n",
    "    n_features = layer_activation.shape[-1]\n",
    "\n",
    "    # The feature map has shape (1, size, size, n_features)\n",
    "    size = layer_activation.shape[1]\n",
    "\n",
    "    # We will tile the activation channels in this matrix\n",
    "    n_cols = n_features // images_per_row\n",
    "    display_grid = np.zeros((size * n_cols, images_per_row * size))\n",
    "\n",
    "    # We'll tile each filter into this big horizontal grid\n",
    "    for col in range(n_cols):\n",
    "        for row in range(images_per_row):\n",
    "            channel_image = layer_activation[0,\n",
    "                                             :, :,\n",
    "                                             col * images_per_row + row]\n",
    "            # Post-process the feature to make it visually palatable\n",
    "            channel_image -= channel_image.mean()\n",
    "            channel_image /= channel_image.std()\n",
    "            channel_image *= 64\n",
    "            channel_image += 128\n",
    "            channel_image = np.clip(channel_image, 0, 255).astype('uint8')\n",
    "            display_grid[col * size: (col + 1) * size,\n",
    "                         row * size: (row + 1) * size] = channel_image\n",
    "\n",
    "    # Display the grid\n",
    "    scale = 1. / size\n",
    "    plt.figure(figsize=(scale * display_grid.shape[1],\n",
    "                        scale * display_grid.shape[0]))\n",
    "    plt.title(layer_name)\n",
    "    plt.grid(False)\n",
    "    plt.imshow(display_grid, aspect='auto')\n",
    "\n",
    "plt.show()"
   ]
  },
  {
   "cell_type": "code",
   "execution_count": null,
   "metadata": {},
   "outputs": [],
   "source": []
  }
 ],
 "metadata": {
  "kernelspec": {
   "display_name": "Python 3",
   "language": "python",
   "name": "python3"
  },
  "language_info": {
   "codemirror_mode": {
    "name": "ipython",
    "version": 3
   },
   "file_extension": ".py",
   "mimetype": "text/x-python",
   "name": "python",
   "nbconvert_exporter": "python",
   "pygments_lexer": "ipython3",
   "version": "3.7.4"
  },
  "varInspector": {
   "cols": {
    "lenName": 16,
    "lenType": 16,
    "lenVar": 40
   },
   "kernels_config": {
    "python": {
     "delete_cmd_postfix": "",
     "delete_cmd_prefix": "del ",
     "library": "var_list.py",
     "varRefreshCmd": "print(var_dic_list())"
    },
    "r": {
     "delete_cmd_postfix": ") ",
     "delete_cmd_prefix": "rm(",
     "library": "var_list.r",
     "varRefreshCmd": "cat(var_dic_list()) "
    }
   },
   "position": {
    "height": "417px",
    "left": "231px",
    "right": "20px",
    "top": "24px",
    "width": "778px"
   },
   "types_to_exclude": [
    "module",
    "function",
    "builtin_function_or_method",
    "instance",
    "_Feature"
   ],
   "window_display": false
  }
 },
 "nbformat": 4,
 "nbformat_minor": 2
}
